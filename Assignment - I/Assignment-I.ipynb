{
 "cells": [
  {
   "cell_type": "code",
   "execution_count": null,
   "source": [
    "a = [1, 2, 3]"
   ],
   "outputs": [],
   "metadata": {}
  }
 ],
 "metadata": {
  "orig_nbformat": 4,
  "language_info": {
   "name": "julia",
   "version": "3.9.5"
  },
  "kernelspec": {
   "name": "julia-1.6",
   "display_name": "Julia 1.6.2",
   "language": "julia"
  },
  "interpreter": {
   "hash": "e9c189f36d071e3feafbc6368006929b68f4473eb9fd5ff54f27c34373629430"
  }
 },
 "nbformat": 4,
 "nbformat_minor": 2
}
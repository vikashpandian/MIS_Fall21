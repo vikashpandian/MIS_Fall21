{
 "cells": [
  {
   "cell_type": "markdown",
   "source": [
    "#A 6.2"
   ],
   "metadata": {}
  },
  {
   "cell_type": "markdown",
   "source": [
    "Vandermonde matrices in Julia. Write a function that takes a positive integer n and an m-vector t as inputs and generates the corresponding m x n Vandermonde matrix.\r\n"
   ],
   "metadata": {}
  },
  {
   "cell_type": "markdown",
   "source": [
    "Solution:\r\n"
   ],
   "metadata": {}
  },
  {
   "cell_type": "markdown",
   "source": [
    "A function that takes integer n and m-vector t"
   ],
   "metadata": {}
  },
  {
   "cell_type": "code",
   "execution_count": 1,
   "source": [
    "function generateVandermondeMatrix( n, t, V)\r\n",
    "    for j = 1 : n\r\n",
    "        V[:,j] = t.^(j - 1)\r\n",
    "    end\r\n",
    "end"
   ],
   "outputs": [
    {
     "output_type": "execute_result",
     "data": {
      "text/plain": [
       "generateVandermondeMatrix (generic function with 1 method)"
      ]
     },
     "metadata": {},
     "execution_count": 1
    }
   ],
   "metadata": {}
  },
  {
   "cell_type": "markdown",
   "source": [
    "Initializing Empty matrix of size m x n"
   ],
   "metadata": {}
  },
  {
   "cell_type": "code",
   "execution_count": 2,
   "source": [
    "println(\"Enter m and n for Vandermonde Matrix\\nm : \")\r\n",
    "m = parse(Int64, readline())"
   ],
   "outputs": [
    {
     "output_type": "stream",
     "name": "stdout",
     "text": [
      "Enter m and n for Vandermonde Matrix\n",
      "m : \n"
     ]
    },
    {
     "output_type": "execute_result",
     "data": {
      "text/plain": [
       "4"
      ]
     },
     "metadata": {},
     "execution_count": 2
    }
   ],
   "metadata": {}
  },
  {
   "cell_type": "code",
   "execution_count": 3,
   "source": [
    "println(\"n : \")\r\n",
    "n = parse(Int64, readline())"
   ],
   "outputs": [
    {
     "output_type": "stream",
     "name": "stdout",
     "text": [
      "n : \n"
     ]
    },
    {
     "output_type": "execute_result",
     "data": {
      "text/plain": [
       "5"
      ]
     },
     "metadata": {},
     "execution_count": 3
    }
   ],
   "metadata": {}
  },
  {
   "cell_type": "markdown",
   "source": [
    "Initializing n-vector t"
   ],
   "metadata": {}
  },
  {
   "cell_type": "code",
   "execution_count": 4,
   "source": [
    "t = Vector{Int64}()\r\n",
    "println(\"Input the values of m-vector t : \")\r\n",
    "for i = 1 : m\r\n",
    "    push!(t, parse(Int64, readline()))\r\n",
    "end\r\n",
    "\r\n",
    "t"
   ],
   "outputs": [
    {
     "output_type": "stream",
     "name": "stdout",
     "text": [
      "Input the values of m-vector t : \n"
     ]
    },
    {
     "output_type": "execute_result",
     "data": {
      "text/plain": [
       "4-element Vector{Int64}:\n",
       " 1\n",
       " 2\n",
       " 3\n",
       " 4"
      ]
     },
     "metadata": {},
     "execution_count": 4
    }
   ],
   "metadata": {}
  },
  {
   "cell_type": "markdown",
   "source": [
    "Initialize empty Vandermonde Matrix m x n"
   ],
   "metadata": {}
  },
  {
   "cell_type": "code",
   "execution_count": 5,
   "source": [
    "V = zeros(Int64, m, n)"
   ],
   "outputs": [
    {
     "output_type": "execute_result",
     "data": {
      "text/plain": [
       "4×5 Matrix{Int64}:\n",
       " 0  0  0  0  0\n",
       " 0  0  0  0  0\n",
       " 0  0  0  0  0\n",
       " 0  0  0  0  0"
      ]
     },
     "metadata": {},
     "execution_count": 5
    }
   ],
   "metadata": {}
  },
  {
   "cell_type": "markdown",
   "source": [
    "Generating Vandermonde Matrix"
   ],
   "metadata": {}
  },
  {
   "cell_type": "code",
   "execution_count": 6,
   "source": [
    "generateVandermondeMatrix(n, t, V)\r\n",
    "V"
   ],
   "outputs": [
    {
     "output_type": "execute_result",
     "data": {
      "text/plain": [
       "4×5 Matrix{Int64}:\n",
       " 1  1   1   1    1\n",
       " 1  2   4   8   16\n",
       " 1  3   9  27   81\n",
       " 1  4  16  64  256"
      ]
     },
     "metadata": {},
     "execution_count": 6
    }
   ],
   "metadata": {}
  }
 ],
 "metadata": {
  "orig_nbformat": 4,
  "language_info": {
   "file_extension": ".jl",
   "name": "julia",
   "mimetype": "application/julia",
   "version": "1.6.2"
  },
  "kernelspec": {
   "name": "julia-1.6",
   "display_name": "Julia 1.6.2",
   "language": "julia"
  }
 },
 "nbformat": 4,
 "nbformat_minor": 2
}
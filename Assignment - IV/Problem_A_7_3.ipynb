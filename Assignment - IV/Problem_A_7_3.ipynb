{
 "cells": [
  {
   "cell_type": "markdown",
   "source": [
    "# A 7.3"
   ],
   "metadata": {}
  },
  {
   "cell_type": "markdown",
   "source": [
    "Reading the audiofile"
   ],
   "metadata": {}
  },
  {
   "cell_type": "code",
   "execution_count": 2,
   "source": [
    "using WAV\r\n",
    "x, f = wavread(\"audio_filtering_original.wav\")\r\n",
    "x = vec(x)"
   ],
   "outputs": [
    {
     "output_type": "execute_result",
     "data": {
      "text/plain": [
       "441000-element Vector{Float64}:\n",
       " 0.0\n",
       " 0.0\n",
       " 0.0\n",
       " 0.0\n",
       " 0.0\n",
       " 0.0\n",
       " 0.0\n",
       " 0.0\n",
       " 0.0\n",
       " 0.0\n",
       " 0.0\n",
       " 0.0\n",
       " 0.0\n",
       " ⋮\n",
       " 0.2860805094242096\n",
       " 0.29850155115127563\n",
       " 0.299630731344223\n",
       " 0.28992584347724915\n",
       " 0.2713095545768738\n",
       " 0.24967192113399506\n",
       " 0.23129978775978088\n",
       " 0.21637623012065887\n",
       " 0.20450453460216522\n",
       " 0.19547104835510254\n",
       " 0.18588824570178986\n",
       " 0.17609180510044098"
      ]
     },
     "metadata": {},
     "execution_count": 2
    }
   ],
   "metadata": {}
  },
  {
   "cell_type": "code",
   "execution_count": 3,
   "source": [
    "wavplay(x, f)"
   ],
   "outputs": [],
   "metadata": {}
  },
  {
   "cell_type": "markdown",
   "source": [
    "# a)"
   ],
   "metadata": {}
  },
  {
   "cell_type": "markdown",
   "source": [
    "Convolving the input audio with $h^{smooth}$ vector"
   ],
   "metadata": {}
  },
  {
   "cell_type": "code",
   "execution_count": 4,
   "source": [
    "using DSP\r\n",
    "h_smooth = 1 / 44 * ones(44)\r\n",
    "output = conv(h_smooth, x)"
   ],
   "outputs": [
    {
     "output_type": "execute_result",
     "data": {
      "text/plain": [
       "441043-element Vector{Float64}:\n",
       " 0.0\n",
       " 0.0\n",
       " 0.0\n",
       " 0.0\n",
       " 0.0\n",
       " 0.0\n",
       " 0.0\n",
       " 0.0\n",
       " 0.0\n",
       " 0.0\n",
       " 0.0\n",
       " 0.0\n",
       " 0.0\n",
       " ⋮\n",
       " 0.06601708551699467\n",
       " 0.05951525575735354\n",
       " 0.05273112959482454\n",
       " 0.045921340246092186\n",
       " 0.039332116530700165\n",
       " 0.033165990290316666\n",
       " 0.027491628446362243\n",
       " 0.022234815088185415\n",
       " 0.01731717349453407\n",
       " 0.012669343162666671\n",
       " 0.008226819336414365\n",
       " 0.004002086479555481"
      ]
     },
     "metadata": {},
     "execution_count": 4
    }
   ],
   "metadata": {}
  },
  {
   "cell_type": "markdown",
   "source": [
    "Playing the output "
   ],
   "metadata": {}
  },
  {
   "cell_type": "code",
   "execution_count": 5,
   "source": [
    "wavplay(output, f)"
   ],
   "outputs": [],
   "metadata": {}
  },
  {
   "cell_type": "markdown",
   "source": [
    "In the output audio above, the final amplitude is $\\frac{1}{44}th$ of an amplitude combined with the previous 43 values i.e the average amplitude values of every 1ms"
   ],
   "metadata": {}
  },
  {
   "cell_type": "markdown",
   "source": [
    "This results in the audio being pleasant to hear, whereas in the original audio the rough edges were clearly felt while hearing. This overall will result in a smooth audio curve."
   ],
   "metadata": {}
  },
  {
   "cell_type": "markdown",
   "source": [
    "# b)"
   ],
   "metadata": {}
  },
  {
   "cell_type": "markdown",
   "source": [
    "Computing k"
   ],
   "metadata": {}
  },
  {
   "cell_type": "markdown",
   "source": [
    "k should be of length 441000*0.25/10"
   ],
   "metadata": {}
  },
  {
   "cell_type": "code",
   "execution_count": 6,
   "source": [
    "k = Int64(size(x,1) * 0.25 / 10)"
   ],
   "outputs": [
    {
     "output_type": "execute_result",
     "data": {
      "text/plain": [
       "11025"
      ]
     },
     "metadata": {},
     "execution_count": 6
    }
   ],
   "metadata": {}
  },
  {
   "cell_type": "markdown",
   "source": [
    "Creating the $h^{echo}$ vector"
   ],
   "metadata": {}
  },
  {
   "cell_type": "markdown",
   "source": [
    "k+1-Vector $h^{echo}$ = [1,0,0,...,0.5]"
   ],
   "metadata": {}
  },
  {
   "cell_type": "code",
   "execution_count": 7,
   "source": [
    "h_echo = 0 * ones(k)\r\n",
    "h_echo[1] = 1\r\n",
    "push!(h_echo, 0.5)"
   ],
   "outputs": [
    {
     "output_type": "execute_result",
     "data": {
      "text/plain": [
       "11026-element Vector{Float64}:\n",
       " 1.0\n",
       " 0.0\n",
       " 0.0\n",
       " 0.0\n",
       " 0.0\n",
       " 0.0\n",
       " 0.0\n",
       " 0.0\n",
       " 0.0\n",
       " 0.0\n",
       " 0.0\n",
       " 0.0\n",
       " 0.0\n",
       " ⋮\n",
       " 0.0\n",
       " 0.0\n",
       " 0.0\n",
       " 0.0\n",
       " 0.0\n",
       " 0.0\n",
       " 0.0\n",
       " 0.0\n",
       " 0.0\n",
       " 0.0\n",
       " 0.0\n",
       " 0.5"
      ]
     },
     "metadata": {},
     "execution_count": 7
    }
   ],
   "metadata": {}
  },
  {
   "cell_type": "markdown",
   "source": [
    "Computing the audio vector with echo"
   ],
   "metadata": {}
  },
  {
   "cell_type": "code",
   "execution_count": 8,
   "source": [
    "output_echo = conv(h_echo, x)"
   ],
   "outputs": [
    {
     "output_type": "execute_result",
     "data": {
      "text/plain": [
       "452025-element Vector{Float64}:\n",
       " -3.122502256758253e-17\n",
       "  0.0\n",
       " -1.214306433183765e-17\n",
       " -1.3010426069826053e-17\n",
       " -2.42861286636753e-17\n",
       " -9.324138683375338e-18\n",
       "  1.214306433183765e-17\n",
       "  3.5128150388530344e-17\n",
       "  6.938893903907228e-18\n",
       " -6.938893903907228e-18\n",
       " -1.734723475976807e-18\n",
       " -7.37257477290143e-18\n",
       " -1.3877787807814457e-17\n",
       "  ⋮\n",
       "  0.14304025471210485\n",
       "  0.14925077557563776\n",
       "  0.14981536567211157\n",
       "  0.14496292173862457\n",
       "  0.13565477728843683\n",
       "  0.12483596056699751\n",
       "  0.11564989387989044\n",
       "  0.10818811506032945\n",
       "  0.10225226730108262\n",
       "  0.09773552417755121\n",
       "  0.09294412285089498\n",
       "  0.08804590255022045"
      ]
     },
     "metadata": {},
     "execution_count": 8
    }
   ],
   "metadata": {}
  },
  {
   "cell_type": "markdown",
   "source": [
    "Playing the echo output"
   ],
   "metadata": {}
  },
  {
   "cell_type": "code",
   "execution_count": 9,
   "source": [
    "wavplay(output_echo, f)"
   ],
   "outputs": [],
   "metadata": {}
  },
  {
   "cell_type": "markdown",
   "source": [
    "Computing the audio vector with echo twice"
   ],
   "metadata": {}
  },
  {
   "cell_type": "code",
   "execution_count": 11,
   "source": [
    "output_echo_echo = conv(h_echo, conv(h_echo, x))"
   ],
   "outputs": [
    {
     "output_type": "execute_result",
     "data": {
      "text/plain": [
       "463050-element Vector{Float64}:\n",
       " -1.5612511283791264e-17\n",
       "  1.8214596497756474e-17\n",
       " -3.2959746043559335e-17\n",
       " -3.209238430557093e-17\n",
       " -4.0766001685454967e-17\n",
       " -3.382710778154774e-17\n",
       "  3.469446951953614e-17\n",
       "  6.331740687315346e-17\n",
       " -2.42861286636753e-17\n",
       " -1.3877787807814457e-17\n",
       " -2.949029909160572e-17\n",
       "  8.673617379884035e-18\n",
       "  1.0408340855860843e-17\n",
       "  ⋮\n",
       "  0.07152012735605243\n",
       "  0.07462538778781898\n",
       "  0.07490768283605576\n",
       "  0.07248146086931244\n",
       "  0.06782738864421842\n",
       "  0.062417980283498875\n",
       "  0.057824946939945165\n",
       "  0.054094057530164774\n",
       "  0.05112613365054133\n",
       "  0.04886776208877572\n",
       "  0.046472061425447506\n",
       "  0.04402295127511027"
      ]
     },
     "metadata": {},
     "execution_count": 11
    }
   ],
   "metadata": {}
  },
  {
   "cell_type": "markdown",
   "source": [
    "Playing the output with echo vector added twice"
   ],
   "metadata": {}
  },
  {
   "cell_type": "code",
   "execution_count": 12,
   "source": [
    "wavplay(output_echo_echo, f)"
   ],
   "outputs": [],
   "metadata": {}
  },
  {
   "cell_type": "markdown",
   "source": [
    "In the output sample $h^{echo}$ $*$ x there was an echo added after 0.25 second at half the amplitude and the echo was confirmed while playing the audio"
   ],
   "metadata": {}
  },
  {
   "cell_type": "markdown",
   "source": [
    "In the output sample $h^{echo}$ $*$ $h^{echo}$ $*$ x there were two echo vectors convolved and hence the resultant audio had 3 additional echoes each at a different amplitude and this was confirmed while playing the audio"
   ],
   "metadata": {}
  }
 ],
 "metadata": {
  "orig_nbformat": 4,
  "language_info": {
   "file_extension": ".jl",
   "name": "julia",
   "mimetype": "application/julia",
   "version": "1.6.2"
  },
  "kernelspec": {
   "name": "julia-1.6",
   "display_name": "Julia 1.6.2",
   "language": "julia"
  }
 },
 "nbformat": 4,
 "nbformat_minor": 2
}
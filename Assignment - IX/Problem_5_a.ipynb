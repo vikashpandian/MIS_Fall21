{
 "cells": [
  {
   "cell_type": "markdown",
   "metadata": {},
   "source": [
    "# Problem 5 a"
   ]
  },
  {
   "cell_type": "markdown",
   "metadata": {},
   "source": [
    "## Initialization of inputs"
   ]
  },
  {
   "cell_type": "code",
   "execution_count": 2,
   "metadata": {},
   "outputs": [
    {
     "name": "stdout",
     "output_type": "stream",
     "text": [
      "V = [-0.6881610730267923 0.07145755958200357 0.7220305774336694; -0.6165740012823067 0.46695979390222553 -0.6338651684873664; -0.38245370767367376 -0.8813866166770266 -0.27728467939878043]\n",
      "U = [-0.3745560599353824 -0.13377807119327031 0.577070711139601; -0.22803703167406508 0.10373718813490952 0.35360044430059534; -0.5621410322732161 0.1869343878053174 0.21306307383827724]\n",
      "svd_val.S = [2.048118273567099, 0.6641344931996808, 0.2707763616978178]\n"
     ]
    },
    {
     "data": {
      "text/plain": [
       "3-element Vector{Float64}:\n",
       " 2.048118273567099\n",
       " 0.6641344931996808\n",
       " 0.2707763616978178"
      ]
     },
     "execution_count": 2,
     "metadata": {},
     "output_type": "execute_result"
    }
   ],
   "source": [
    "using LinearAlgebra\n",
    "\n",
    "A = rand(6, 3)\n",
    "svd_val = svd(A)\n",
    "B = qr(A)\n",
    "V_1 = Matrix(I, 3, 3)\n",
    "U_1 = Matrix(I, 3, 3)\n",
    "U = svd_val.U[1:3, :]\n",
    "V = svd_val.V\n",
    "B_Rval = B.R\n",
    "@show V\n",
    "@show U\n",
    "@show svd_val.S"
   ]
  },
  {
   "cell_type": "markdown",
   "metadata": {},
   "source": [
    "## Value Computation"
   ]
  },
  {
   "cell_type": "code",
   "execution_count": 3,
   "metadata": {},
   "outputs": [],
   "source": [
    "for i in 1:25\n",
    "    B_Rval = B.R\n",
    "    if i%2 == 0\n",
    "        V_1 = V_1 * B.Q\n",
    "    elseif i > 1\n",
    "        U_1 = U_1*B.Q\n",
    "    end\n",
    "    B = qr((B.R)')\n",
    "end"
   ]
  },
  {
   "cell_type": "markdown",
   "metadata": {},
   "source": [
    "## Printing Output Values"
   ]
  },
  {
   "cell_type": "code",
   "execution_count": 4,
   "metadata": {},
   "outputs": [
    {
     "name": "stdout",
     "output_type": "stream",
     "text": [
      "Diagonal(svd_val.S) = [2.048118273567099 0.0 0.0; 0.0 0.6641344931996808 0.0; 0.0 0.0 0.2707763616978178]\n",
      "B_Rval = [-2.048118273567099 3.4760683864130887e-13 -2.2085812099356308e-21; 0.0 0.66413449319968 -7.83530589230828e-10; 0.0 0.0 0.27077636169781777]\n"
     ]
    },
    {
     "data": {
      "text/plain": [
       "3×3 Matrix{Float64}:\n",
       " -2.04812  3.47607e-13  -2.20858e-21\n",
       "  0.0      0.664134     -7.83531e-10\n",
       "  0.0      0.0           0.270776"
      ]
     },
     "execution_count": 4,
     "metadata": {},
     "output_type": "execute_result"
    }
   ],
   "source": [
    "@show Diagonal(svd_val.S)\n",
    "@show B_Rval"
   ]
  },
  {
   "cell_type": "code",
   "execution_count": 5,
   "metadata": {},
   "outputs": [
    {
     "name": "stdout",
     "output_type": "stream",
     "text": [
      "V = [-0.6881610730267923 0.07145755958200357 0.7220305774336694; -0.6165740012823067 0.46695979390222553 -0.6338651684873664; -0.38245370767367376 -0.8813866166770266 -0.27728467939878043]\n",
      "V_1 = [0.6881610730268055 0.0714575585602066 -0.7220305775347815; 0.6165740012823953 0.4669597947990215 0.6338651678266223; 0.3824537076735062 -0.8813866162847432 0.2772846806459344]\n"
     ]
    },
    {
     "data": {
      "text/plain": [
       "3×3 Matrix{Float64}:\n",
       " 0.688161   0.0714576  -0.722031\n",
       " 0.616574   0.46696     0.633865\n",
       " 0.382454  -0.881387    0.277285"
      ]
     },
     "execution_count": 5,
     "metadata": {},
     "output_type": "execute_result"
    }
   ],
   "source": [
    "@show V\n",
    "@show V_1"
   ]
  }
 ],
 "metadata": {
  "interpreter": {
   "hash": "e9c189f36d071e3feafbc6368006929b68f4473eb9fd5ff54f27c34373629430"
  },
  "kernelspec": {
   "display_name": "Julia 1.6.2",
   "language": "julia",
   "name": "julia-1.6"
  },
  "language_info": {
   "file_extension": ".jl",
   "mimetype": "application/julia",
   "name": "julia",
   "version": "1.6.2"
  },
  "orig_nbformat": 4
 },
 "nbformat": 4,
 "nbformat_minor": 2
}

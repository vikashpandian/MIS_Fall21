{
 "cells": [
  {
   "cell_type": "markdown",
   "metadata": {},
   "source": [
    "# Problem_8_B"
   ]
  },
  {
   "cell_type": "code",
   "execution_count": 1,
   "metadata": {},
   "outputs": [
    {
     "data": {
      "text/plain": [
       "14×6 Matrix{Int64}:\n",
       " 1  -1   0  0   0   0\n",
       " 0   0   0  1  -1   0\n",
       " 1   0  -1  0   0   0\n",
       " 0   0   0  1   0  -1\n",
       " 1   0   0  0   0   0\n",
       " 0   0   0  1   0   0\n",
       " 0   1   0  0   0   0\n",
       " 0   0   0  0   1   0\n",
       " 0   0   1  0   0   0\n",
       " 0   0   0  0   0   1\n",
       " 0   0   1  0   0   0\n",
       " 0   0   0  0   0   1\n",
       " 0   1   0  0   0   0\n",
       " 0   0   0  0   1   0"
      ]
     },
     "execution_count": 1,
     "metadata": {},
     "output_type": "execute_result"
    }
   ],
   "source": [
    "WA = [1 -1 0 0 0 0;\n",
    "0 0 0 1 -1 0;\n",
    "1 0 -1 0 0 0;\n",
    "0 0 0 1 0 -1;\n",
    "1 0 0 0 0 0;\n",
    "0 0 0 1 0 0;\n",
    "0 1 0 0 0 0;\n",
    "0 0 0 0 1 0;\n",
    "0 0 1 0 0 0;\n",
    "0 0 0 0 0 1;\n",
    "0 0 1 0 0 0;\n",
    "0 0 0 0 0 1;\n",
    "0 1 0 0 0 0;\n",
    "0 0 0 0 1 0;\n",
    "]"
   ]
  },
  {
   "cell_type": "code",
   "execution_count": 2,
   "metadata": {},
   "outputs": [
    {
     "data": {
      "text/plain": [
       "14-element Vector{Float64}:\n",
       "  0.0\n",
       "  0.0\n",
       "  0.0\n",
       "  0.0\n",
       " -1.0\n",
       "  0.0\n",
       "  0.5\n",
       "  1.0\n",
       "  0.0\n",
       " -1.0\n",
       "  1.0\n",
       "  0.5\n",
       "  1.0\n",
       "  0.5"
      ]
     },
     "execution_count": 2,
     "metadata": {},
     "output_type": "execute_result"
    }
   ],
   "source": [
    "wb = [ 0,0,0,0,-1,0,0.5,1,0,-1,1,0.5,1,0.5]"
   ]
  },
  {
   "cell_type": "code",
   "execution_count": 3,
   "metadata": {},
   "outputs": [
    {
     "data": {
      "text/plain": [
       "7×3 Matrix{Int64}:\n",
       " 1  -1   0\n",
       " 1   0  -1\n",
       " 1   0   0\n",
       " 0   1   0\n",
       " 0   0   1\n",
       " 0   0   1\n",
       " 0   1   0"
      ]
     },
     "execution_count": 3,
     "metadata": {},
     "output_type": "execute_result"
    }
   ],
   "source": [
    "WA_bar = [1 -1 0;\n",
    "1 0 -1;\n",
    "1 0 0;\n",
    "0 1 0;\n",
    "0 0 1;\n",
    "0 0 1;\n",
    "0 1 0]"
   ]
  },
  {
   "cell_type": "code",
   "execution_count": 4,
   "metadata": {},
   "outputs": [
    {
     "data": {
      "text/plain": [
       "7-element Vector{Float64}:\n",
       "  0.0\n",
       "  0.0\n",
       "  0.0\n",
       "  1.0\n",
       " -1.0\n",
       "  0.5\n",
       "  0.5"
      ]
     },
     "execution_count": 4,
     "metadata": {},
     "output_type": "execute_result"
    }
   ],
   "source": [
    "wb_bar = [0,0,-1,0.5,0,1,1]\n",
    "WA_tilde = [1 -1 0;\n",
    "1 0 -1;\n",
    "1 0 0;\n",
    "0 1 0;\n",
    "0 0 1;\n",
    "0 0 1;\n",
    "0 1 0]\n",
    "wb_tilde = [0,0,0,1,-1,0.5,0.5]"
   ]
  },
  {
   "cell_type": "code",
   "execution_count": 5,
   "metadata": {},
   "outputs": [
    {
     "data": {
      "text/plain": [
       "6-element Vector{Float64}:\n",
       " -0.07142857142857142\n",
       "  0.4761904761904762\n",
       "  0.30952380952380953\n",
       "  0.14285714285714285\n",
       "  0.5476190476190477\n",
       " -0.11904761904761908"
      ]
     },
     "execution_count": 5,
     "metadata": {},
     "output_type": "execute_result"
    }
   ],
   "source": [
    "WX = WA\\wb"
   ]
  },
  {
   "cell_type": "code",
   "execution_count": 6,
   "metadata": {},
   "outputs": [
    {
     "data": {
      "text/plain": [
       "3-element Vector{Float64}:\n",
       " -0.07142857142857145\n",
       "  0.4761904761904762\n",
       "  0.3095238095238095"
      ]
     },
     "execution_count": 6,
     "metadata": {},
     "output_type": "execute_result"
    }
   ],
   "source": [
    "WX_bar = WA_bar\\wb_bar"
   ]
  },
  {
   "cell_type": "code",
   "execution_count": 7,
   "metadata": {},
   "outputs": [
    {
     "data": {
      "text/plain": [
       "3-element Vector{Float64}:\n",
       "  0.14285714285714285\n",
       "  0.5476190476190477\n",
       " -0.11904761904761908"
      ]
     },
     "execution_count": 7,
     "metadata": {},
     "output_type": "execute_result"
    }
   ],
   "source": [
    "WX_tilde = WA_tilde\\wb_tilde"
   ]
  }
 ],
 "metadata": {
  "kernelspec": {
   "display_name": "Julia 1.6.2",
   "language": "julia",
   "name": "julia-1.6"
  },
  "language_info": {
   "file_extension": ".jl",
   "mimetype": "application/julia",
   "name": "julia",
   "version": "1.6.2"
  },
  "orig_nbformat": 4
 },
 "nbformat": 4,
 "nbformat_minor": 2
}

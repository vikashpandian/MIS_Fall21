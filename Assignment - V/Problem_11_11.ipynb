{
 "cells": [
  {
   "cell_type": "code",
   "execution_count": 88,
   "metadata": {},
   "outputs": [
    {
     "data": {
      "text/plain": [
       "5×5 Matrix{Int64}:\n",
       " 1  1   1   -2   -2\n",
       " 1  2   4  -10  -20\n",
       " 1  3   9  -27  -81\n",
       " 1  4  16    4   16\n",
       " 1  5  25   20  100"
      ]
     },
     "execution_count": 88,
     "metadata": {},
     "output_type": "execute_result"
    }
   ],
   "source": [
    "A = [1 1 1 -2 -2; 1 2 4 -10 -20; 1 3 9 -27 -81; 1 4 16 4 16; 1 5 25 20 100]"
   ]
  },
  {
   "cell_type": "code",
   "execution_count": 89,
   "metadata": {},
   "outputs": [
    {
     "data": {
      "text/plain": [
       "5-element Vector{Int64}:\n",
       "  2\n",
       "  5\n",
       "  9\n",
       " -1\n",
       " -4"
      ]
     },
     "execution_count": 89,
     "metadata": {},
     "output_type": "execute_result"
    }
   ],
   "source": [
    "B = [2; 5; 9; -1; -4]"
   ]
  },
  {
   "cell_type": "code",
   "execution_count": 90,
   "metadata": {},
   "outputs": [
    {
     "name": "stdout",
     "output_type": "stream",
     "text": [
      "c1 = 0.6296296296296291\n",
      "c2 = 0.6049382716049365\n",
      "c3 = -0.19753086419753213\n",
      "d1 = -0.5679012345679013\n",
      "d2 = 0.08641975308641972\n"
     ]
    }
   ],
   "source": [
    "x = inv(A)*B\n",
    "println(\"c1 = \", x[1])\n",
    "println(\"c2 = \", x[2])\n",
    "println(\"c3 = \", x[3])\n",
    "println(\"d1 = \", x[4])\n",
    "println(\"d2 = \", x[5])"
   ]
  },
  {
   "cell_type": "code",
   "execution_count": 91,
   "metadata": {},
   "outputs": [
    {
     "data": {
      "text/plain": [
       "f (generic function with 2 methods)"
      ]
     },
     "execution_count": 91,
     "metadata": {},
     "output_type": "execute_result"
    }
   ],
   "source": [
    "function f(t, X = x)\n",
    "    return ((x[1] + (x[2] * t) + (x[3] * t * t))\n",
    "        /(1 + (x[4] * t) + (x[5] * t * t)))\n",
    "end"
   ]
  },
  {
   "cell_type": "code",
   "execution_count": 92,
   "metadata": {},
   "outputs": [
    {
     "data": {
      "image/svg+xml": "<?xml version=\"1.0\" encoding=\"utf-8\"?>\n<svg xmlns=\"http://www.w3.org/2000/svg\" xmlns:xlink=\"http://www.w3.org/1999/xlink\" width=\"600\" height=\"400\" viewBox=\"0 0 2400 1600\">\n<defs>\n  <clipPath id=\"clip460\">\n    <rect x=\"0\" y=\"0\" width=\"2400\" height=\"1600\"/>\n  </clipPath>\n</defs>\n<path clip-path=\"url(#clip460)\" d=\"\nM0 1600 L2400 1600 L2400 0 L0 0  Z\n  \" fill=\"#ffffff\" fill-rule=\"evenodd\" fill-opacity=\"1\"/>\n<defs>\n  <clipPath id=\"clip461\">\n    <rect x=\"480\" y=\"0\" width=\"1681\" height=\"1600\"/>\n  </clipPath>\n</defs>\n<path clip-path=\"url(#clip460)\" d=\"\nM212.459 1423.18 L2352.76 1423.18 L2352.76 47.2441 L212.459 47.2441  Z\n  \" fill=\"#ffffff\" fill-rule=\"evenodd\" fill-opacity=\"1\"/>\n<defs>\n  <clipPath id=\"clip462\">\n    <rect x=\"212\" y=\"47\" width=\"2141\" height=\"1377\"/>\n  </clipPath>\n</defs>\n<polyline clip-path=\"url(#clip462)\" style=\"stroke:#000000; stroke-linecap:butt; stroke-linejoin:round; stroke-width:2; stroke-opacity:0.1; fill:none\" points=\"\n  273.033,1423.18 273.033,47.2441 \n  \"/>\n<polyline clip-path=\"url(#clip462)\" style=\"stroke:#000000; stroke-linecap:butt; stroke-linejoin:round; stroke-width:2; stroke-opacity:0.1; fill:none\" points=\"\n  609.558,1423.18 609.558,47.2441 \n  \"/>\n<polyline clip-path=\"url(#clip462)\" style=\"stroke:#000000; stroke-linecap:butt; stroke-linejoin:round; stroke-width:2; stroke-opacity:0.1; fill:none\" points=\"\n  946.083,1423.18 946.083,47.2441 \n  \"/>\n<polyline clip-path=\"url(#clip462)\" style=\"stroke:#000000; stroke-linecap:butt; stroke-linejoin:round; stroke-width:2; stroke-opacity:0.1; fill:none\" points=\"\n  1282.61,1423.18 1282.61,47.2441 \n  \"/>\n<polyline clip-path=\"url(#clip462)\" style=\"stroke:#000000; stroke-linecap:butt; stroke-linejoin:round; stroke-width:2; stroke-opacity:0.1; fill:none\" points=\"\n  1619.13,1423.18 1619.13,47.2441 \n  \"/>\n<polyline clip-path=\"url(#clip462)\" style=\"stroke:#000000; stroke-linecap:butt; stroke-linejoin:round; stroke-width:2; stroke-opacity:0.1; fill:none\" points=\"\n  1955.66,1423.18 1955.66,47.2441 \n  \"/>\n<polyline clip-path=\"url(#clip462)\" style=\"stroke:#000000; stroke-linecap:butt; stroke-linejoin:round; stroke-width:2; stroke-opacity:0.1; fill:none\" points=\"\n  2292.18,1423.18 2292.18,47.2441 \n  \"/>\n<polyline clip-path=\"url(#clip460)\" style=\"stroke:#000000; stroke-linecap:butt; stroke-linejoin:round; stroke-width:4; stroke-opacity:1; fill:none\" points=\"\n  212.459,907.204 2352.76,907.204 \n  \"/>\n<polyline clip-path=\"url(#clip460)\" style=\"stroke:#000000; stroke-linecap:butt; stroke-linejoin:round; stroke-width:4; stroke-opacity:0; fill:none\" points=\"\n  273.033,907.204 273.033,907.204 \n  \"/>\n<polyline clip-path=\"url(#clip460)\" style=\"stroke:#000000; stroke-linecap:butt; stroke-linejoin:round; stroke-width:4; stroke-opacity:0; fill:none\" points=\"\n  609.558,907.204 609.558,907.204 \n  \"/>\n<polyline clip-path=\"url(#clip460)\" style=\"stroke:#000000; stroke-linecap:butt; stroke-linejoin:round; stroke-width:4; stroke-opacity:0; fill:none\" points=\"\n  946.083,907.204 946.083,907.204 \n  \"/>\n<polyline clip-path=\"url(#clip460)\" style=\"stroke:#000000; stroke-linecap:butt; stroke-linejoin:round; stroke-width:4; stroke-opacity:0; fill:none\" points=\"\n  1282.61,907.204 1282.61,907.204 \n  \"/>\n<polyline clip-path=\"url(#clip460)\" style=\"stroke:#000000; stroke-linecap:butt; stroke-linejoin:round; stroke-width:4; stroke-opacity:0; fill:none\" points=\"\n  1619.13,907.204 1619.13,907.204 \n  \"/>\n<polyline clip-path=\"url(#clip460)\" style=\"stroke:#000000; stroke-linecap:butt; stroke-linejoin:round; stroke-width:4; stroke-opacity:0; fill:none\" points=\"\n  1955.66,907.204 1955.66,907.204 \n  \"/>\n<polyline clip-path=\"url(#clip460)\" style=\"stroke:#000000; stroke-linecap:butt; stroke-linejoin:round; stroke-width:4; stroke-opacity:0; fill:none\" points=\"\n  2292.18,907.204 2292.18,907.204 \n  \"/>\n<path clip-path=\"url(#clip460)\" d=\"M273.033 1452.37 Q269.422 1452.37 267.594 1455.94 Q265.788 1459.48 265.788 1466.61 Q265.788 1473.71 267.594 1477.28 Q269.422 1480.82 273.033 1480.82 Q276.668 1480.82 278.473 1477.28 Q280.302 1473.71 280.302 1466.61 Q280.302 1459.48 278.473 1455.94 Q276.668 1452.37 273.033 1452.37 M273.033 1448.67 Q278.843 1448.67 281.899 1453.27 Q284.978 1457.86 284.978 1466.61 Q284.978 1475.33 281.899 1479.94 Q278.843 1484.52 273.033 1484.52 Q267.223 1484.52 264.145 1479.94 Q261.089 1475.33 261.089 1466.61 Q261.089 1457.86 264.145 1453.27 Q267.223 1448.67 273.033 1448.67 Z\" fill=\"#000000\" fill-rule=\"evenodd\" fill-opacity=\"1\" /><path clip-path=\"url(#clip460)\" d=\"M599.94 1479.92 L607.579 1479.92 L607.579 1453.55 L599.269 1455.22 L599.269 1450.96 L607.533 1449.29 L612.208 1449.29 L612.208 1479.92 L619.847 1479.92 L619.847 1483.85 L599.94 1483.85 L599.94 1479.92 Z\" fill=\"#000000\" fill-rule=\"evenodd\" fill-opacity=\"1\" /><path clip-path=\"url(#clip460)\" d=\"M940.736 1479.92 L957.055 1479.92 L957.055 1483.85 L935.111 1483.85 L935.111 1479.92 Q937.773 1477.16 942.356 1472.53 Q946.962 1467.88 948.143 1466.54 Q950.388 1464.01 951.268 1462.28 Q952.171 1460.52 952.171 1458.83 Q952.171 1456.07 950.226 1454.34 Q948.305 1452.6 945.203 1452.6 Q943.004 1452.6 940.55 1453.37 Q938.12 1454.13 935.342 1455.68 L935.342 1450.96 Q938.166 1449.82 940.62 1449.25 Q943.073 1448.67 945.11 1448.67 Q950.481 1448.67 953.675 1451.35 Q956.87 1454.04 956.87 1458.53 Q956.87 1460.66 956.06 1462.58 Q955.272 1464.48 953.166 1467.07 Q952.587 1467.74 949.485 1470.96 Q946.384 1474.15 940.736 1479.92 Z\" fill=\"#000000\" fill-rule=\"evenodd\" fill-opacity=\"1\" /><path clip-path=\"url(#clip460)\" d=\"M1286.86 1465.22 Q1290.21 1465.94 1292.09 1468.2 Q1293.98 1470.47 1293.98 1473.81 Q1293.98 1478.92 1290.47 1481.72 Q1286.95 1484.52 1280.47 1484.52 Q1278.29 1484.52 1275.98 1484.08 Q1273.68 1483.67 1271.23 1482.81 L1271.23 1478.3 Q1273.17 1479.43 1275.49 1480.01 Q1277.8 1480.59 1280.33 1480.59 Q1284.73 1480.59 1287.02 1478.85 Q1289.33 1477.12 1289.33 1473.81 Q1289.33 1470.75 1287.18 1469.04 Q1285.05 1467.3 1281.23 1467.3 L1277.2 1467.3 L1277.2 1463.46 L1281.42 1463.46 Q1284.86 1463.46 1286.69 1462.09 Q1288.52 1460.7 1288.52 1458.11 Q1288.52 1455.45 1286.62 1454.04 Q1284.75 1452.6 1281.23 1452.6 Q1279.31 1452.6 1277.11 1453.02 Q1274.91 1453.44 1272.27 1454.31 L1272.27 1450.15 Q1274.93 1449.41 1277.25 1449.04 Q1279.59 1448.67 1281.65 1448.67 Q1286.97 1448.67 1290.07 1451.1 Q1293.17 1453.5 1293.17 1457.63 Q1293.17 1460.5 1291.53 1462.49 Q1289.89 1464.45 1286.86 1465.22 Z\" fill=\"#000000\" fill-rule=\"evenodd\" fill-opacity=\"1\" /><path clip-path=\"url(#clip460)\" d=\"M1622.14 1453.37 L1610.34 1471.81 L1622.14 1471.81 L1622.14 1453.37 M1620.91 1449.29 L1626.79 1449.29 L1626.79 1471.81 L1631.72 1471.81 L1631.72 1475.7 L1626.79 1475.7 L1626.79 1483.85 L1622.14 1483.85 L1622.14 1475.7 L1606.54 1475.7 L1606.54 1471.19 L1620.91 1449.29 Z\" fill=\"#000000\" fill-rule=\"evenodd\" fill-opacity=\"1\" /><path clip-path=\"url(#clip460)\" d=\"M1945.93 1449.29 L1964.29 1449.29 L1964.29 1453.23 L1950.22 1453.23 L1950.22 1461.7 Q1951.24 1461.35 1952.25 1461.19 Q1953.27 1461 1954.29 1461 Q1960.08 1461 1963.46 1464.18 Q1966.84 1467.35 1966.84 1472.76 Q1966.84 1478.34 1963.37 1481.44 Q1959.89 1484.52 1953.57 1484.52 Q1951.4 1484.52 1949.13 1484.15 Q1946.88 1483.78 1944.48 1483.04 L1944.48 1478.34 Q1946.56 1479.48 1948.78 1480.03 Q1951 1480.59 1953.48 1480.59 Q1957.49 1480.59 1959.82 1478.48 Q1962.16 1476.38 1962.16 1472.76 Q1962.16 1469.15 1959.82 1467.05 Q1957.49 1464.94 1953.48 1464.94 Q1951.61 1464.94 1949.73 1465.36 Q1947.88 1465.77 1945.93 1466.65 L1945.93 1449.29 Z\" fill=\"#000000\" fill-rule=\"evenodd\" fill-opacity=\"1\" /><path clip-path=\"url(#clip460)\" d=\"M2292.59 1464.71 Q2289.44 1464.71 2287.59 1466.86 Q2285.76 1469.01 2285.76 1472.76 Q2285.76 1476.49 2287.59 1478.67 Q2289.44 1480.82 2292.59 1480.82 Q2295.73 1480.82 2297.56 1478.67 Q2299.42 1476.49 2299.42 1472.76 Q2299.42 1469.01 2297.56 1466.86 Q2295.73 1464.71 2292.59 1464.71 M2301.87 1450.06 L2301.87 1454.31 Q2300.11 1453.48 2298.3 1453.04 Q2296.52 1452.6 2294.76 1452.6 Q2290.13 1452.6 2287.68 1455.73 Q2285.25 1458.85 2284.9 1465.17 Q2286.27 1463.16 2288.33 1462.09 Q2290.39 1461 2292.86 1461 Q2298.07 1461 2301.08 1464.18 Q2304.11 1467.32 2304.11 1472.76 Q2304.11 1478.09 2300.97 1481.31 Q2297.82 1484.52 2292.59 1484.52 Q2286.59 1484.52 2283.42 1479.94 Q2280.25 1475.33 2280.25 1466.61 Q2280.25 1458.41 2284.14 1453.55 Q2288.03 1448.67 2294.58 1448.67 Q2296.34 1448.67 2298.12 1449.01 Q2299.92 1449.36 2301.87 1450.06 Z\" fill=\"#000000\" fill-rule=\"evenodd\" fill-opacity=\"1\" /><path clip-path=\"url(#clip460)\" d=\"M1281.67 1522.27 L1281.67 1532.4 L1293.73 1532.4 L1293.73 1536.95 L1281.67 1536.95 L1281.67 1556.3 Q1281.67 1560.66 1282.85 1561.9 Q1284.06 1563.14 1287.72 1563.14 L1293.73 1563.14 L1293.73 1568.04 L1287.72 1568.04 Q1280.94 1568.04 1278.36 1565.53 Q1275.78 1562.98 1275.78 1556.3 L1275.78 1536.95 L1271.48 1536.95 L1271.48 1532.4 L1275.78 1532.4 L1275.78 1522.27 L1281.67 1522.27 Z\" fill=\"#000000\" fill-rule=\"evenodd\" fill-opacity=\"1\" /><polyline clip-path=\"url(#clip462)\" style=\"stroke:#000000; stroke-linecap:butt; stroke-linejoin:round; stroke-width:2; stroke-opacity:0.1; fill:none\" points=\"\n  212.459,1423.18 2352.76,1423.18 \n  \"/>\n<polyline clip-path=\"url(#clip462)\" style=\"stroke:#000000; stroke-linecap:butt; stroke-linejoin:round; stroke-width:2; stroke-opacity:0.1; fill:none\" points=\"\n  212.459,1251.19 2352.76,1251.19 \n  \"/>\n<polyline clip-path=\"url(#clip462)\" style=\"stroke:#000000; stroke-linecap:butt; stroke-linejoin:round; stroke-width:2; stroke-opacity:0.1; fill:none\" points=\"\n  212.459,1079.2 2352.76,1079.2 \n  \"/>\n<polyline clip-path=\"url(#clip462)\" style=\"stroke:#000000; stroke-linecap:butt; stroke-linejoin:round; stroke-width:2; stroke-opacity:0.1; fill:none\" points=\"\n  212.459,907.204 2352.76,907.204 \n  \"/>\n<polyline clip-path=\"url(#clip462)\" style=\"stroke:#000000; stroke-linecap:butt; stroke-linejoin:round; stroke-width:2; stroke-opacity:0.1; fill:none\" points=\"\n  212.459,735.212 2352.76,735.212 \n  \"/>\n<polyline clip-path=\"url(#clip462)\" style=\"stroke:#000000; stroke-linecap:butt; stroke-linejoin:round; stroke-width:2; stroke-opacity:0.1; fill:none\" points=\"\n  212.459,563.22 2352.76,563.22 \n  \"/>\n<polyline clip-path=\"url(#clip462)\" style=\"stroke:#000000; stroke-linecap:butt; stroke-linejoin:round; stroke-width:2; stroke-opacity:0.1; fill:none\" points=\"\n  212.459,391.228 2352.76,391.228 \n  \"/>\n<polyline clip-path=\"url(#clip462)\" style=\"stroke:#000000; stroke-linecap:butt; stroke-linejoin:round; stroke-width:2; stroke-opacity:0.1; fill:none\" points=\"\n  212.459,219.236 2352.76,219.236 \n  \"/>\n<polyline clip-path=\"url(#clip462)\" style=\"stroke:#000000; stroke-linecap:butt; stroke-linejoin:round; stroke-width:2; stroke-opacity:0.1; fill:none\" points=\"\n  212.459,47.2441 2352.76,47.2441 \n  \"/>\n<polyline clip-path=\"url(#clip460)\" style=\"stroke:#000000; stroke-linecap:butt; stroke-linejoin:round; stroke-width:4; stroke-opacity:1; fill:none\" points=\"\n  273.033,1423.18 273.033,47.2441 \n  \"/>\n<polyline clip-path=\"url(#clip460)\" style=\"stroke:#000000; stroke-linecap:butt; stroke-linejoin:round; stroke-width:4; stroke-opacity:0; fill:none\" points=\"\n  273.033,1423.18 273.033,1423.18 \n  \"/>\n<polyline clip-path=\"url(#clip460)\" style=\"stroke:#000000; stroke-linecap:butt; stroke-linejoin:round; stroke-width:4; stroke-opacity:0; fill:none\" points=\"\n  273.033,1251.19 273.033,1251.19 \n  \"/>\n<polyline clip-path=\"url(#clip460)\" style=\"stroke:#000000; stroke-linecap:butt; stroke-linejoin:round; stroke-width:4; stroke-opacity:0; fill:none\" points=\"\n  273.033,1079.2 273.033,1079.2 \n  \"/>\n<polyline clip-path=\"url(#clip460)\" style=\"stroke:#000000; stroke-linecap:butt; stroke-linejoin:round; stroke-width:4; stroke-opacity:0; fill:none\" points=\"\n  273.033,907.204 273.033,907.204 \n  \"/>\n<polyline clip-path=\"url(#clip460)\" style=\"stroke:#000000; stroke-linecap:butt; stroke-linejoin:round; stroke-width:4; stroke-opacity:0; fill:none\" points=\"\n  273.033,735.212 273.033,735.212 \n  \"/>\n<polyline clip-path=\"url(#clip460)\" style=\"stroke:#000000; stroke-linecap:butt; stroke-linejoin:round; stroke-width:4; stroke-opacity:0; fill:none\" points=\"\n  273.033,563.22 273.033,563.22 \n  \"/>\n<polyline clip-path=\"url(#clip460)\" style=\"stroke:#000000; stroke-linecap:butt; stroke-linejoin:round; stroke-width:4; stroke-opacity:0; fill:none\" points=\"\n  273.033,391.228 273.033,391.228 \n  \"/>\n<polyline clip-path=\"url(#clip460)\" style=\"stroke:#000000; stroke-linecap:butt; stroke-linejoin:round; stroke-width:4; stroke-opacity:0; fill:none\" points=\"\n  273.033,219.236 273.033,219.236 \n  \"/>\n<polyline clip-path=\"url(#clip460)\" style=\"stroke:#000000; stroke-linecap:butt; stroke-linejoin:round; stroke-width:4; stroke-opacity:0; fill:none\" points=\"\n  273.033,47.2441 273.033,47.2441 \n  \"/>\n<path clip-path=\"url(#clip460)\" d=\"M114.584 1423.63 L144.26 1423.63 L144.26 1427.57 L114.584 1427.57 L114.584 1423.63 Z\" fill=\"#000000\" fill-rule=\"evenodd\" fill-opacity=\"1\" /><path clip-path=\"url(#clip460)\" d=\"M164.931 1421.32 Q161.783 1421.32 159.931 1423.47 Q158.103 1425.62 158.103 1429.37 Q158.103 1433.1 159.931 1435.27 Q161.783 1437.43 164.931 1437.43 Q168.079 1437.43 169.908 1435.27 Q171.76 1433.1 171.76 1429.37 Q171.76 1425.62 169.908 1423.47 Q168.079 1421.32 164.931 1421.32 M174.214 1406.66 L174.214 1410.92 Q172.454 1410.09 170.649 1409.65 Q168.866 1409.21 167.107 1409.21 Q162.477 1409.21 160.024 1412.33 Q157.593 1415.46 157.246 1421.78 Q158.612 1419.77 160.672 1418.7 Q162.732 1417.61 165.209 1417.61 Q170.417 1417.61 173.427 1420.78 Q176.459 1423.93 176.459 1429.37 Q176.459 1434.7 173.311 1437.91 Q170.163 1441.13 164.931 1441.13 Q158.936 1441.13 155.765 1436.55 Q152.593 1431.94 152.593 1423.21 Q152.593 1415.02 156.482 1410.16 Q160.371 1405.27 166.922 1405.27 Q168.681 1405.27 170.464 1405.62 Q172.269 1405.97 174.214 1406.66 Z\" fill=\"#000000\" fill-rule=\"evenodd\" fill-opacity=\"1\" /><path clip-path=\"url(#clip460)\" d=\"M114.26 1251.64 L143.936 1251.64 L143.936 1255.57 L114.26 1255.57 L114.26 1251.64 Z\" fill=\"#000000\" fill-rule=\"evenodd\" fill-opacity=\"1\" /><path clip-path=\"url(#clip460)\" d=\"M166.876 1237.98 L155.07 1256.43 L166.876 1256.43 L166.876 1237.98 M165.649 1233.91 L171.528 1233.91 L171.528 1256.43 L176.459 1256.43 L176.459 1260.32 L171.528 1260.32 L171.528 1268.47 L166.876 1268.47 L166.876 1260.32 L151.274 1260.32 L151.274 1255.81 L165.649 1233.91 Z\" fill=\"#000000\" fill-rule=\"evenodd\" fill-opacity=\"1\" /><path clip-path=\"url(#clip460)\" d=\"M116.343 1079.65 L146.019 1079.65 L146.019 1083.58 L116.343 1083.58 L116.343 1079.65 Z\" fill=\"#000000\" fill-rule=\"evenodd\" fill-opacity=\"1\" /><path clip-path=\"url(#clip460)\" d=\"M160.14 1092.54 L176.459 1092.54 L176.459 1096.48 L154.515 1096.48 L154.515 1092.54 Q157.177 1089.79 161.76 1085.16 Q166.366 1080.5 167.547 1079.16 Q169.792 1076.64 170.672 1074.9 Q171.575 1073.14 171.575 1071.45 Q171.575 1068.7 169.63 1066.96 Q167.709 1065.23 164.607 1065.23 Q162.408 1065.23 159.954 1065.99 Q157.524 1066.75 154.746 1068.3 L154.746 1063.58 Q157.57 1062.45 160.024 1061.87 Q162.477 1061.29 164.515 1061.29 Q169.885 1061.29 173.079 1063.98 Q176.274 1066.66 176.274 1071.15 Q176.274 1073.28 175.464 1075.2 Q174.677 1077.1 172.57 1079.69 Q171.991 1080.36 168.889 1083.58 Q165.788 1086.78 160.14 1092.54 Z\" fill=\"#000000\" fill-rule=\"evenodd\" fill-opacity=\"1\" /><path clip-path=\"url(#clip460)\" d=\"M164.515 893.003 Q160.903 893.003 159.075 896.567 Q157.269 900.109 157.269 907.239 Q157.269 914.345 159.075 917.91 Q160.903 921.452 164.515 921.452 Q168.149 921.452 169.954 917.91 Q171.783 914.345 171.783 907.239 Q171.783 900.109 169.954 896.567 Q168.149 893.003 164.515 893.003 M164.515 889.299 Q170.325 889.299 173.38 893.905 Q176.459 898.489 176.459 907.239 Q176.459 915.965 173.38 920.572 Q170.325 925.155 164.515 925.155 Q158.704 925.155 155.626 920.572 Q152.57 915.965 152.57 907.239 Q152.57 898.489 155.626 893.905 Q158.704 889.299 164.515 889.299 Z\" fill=\"#000000\" fill-rule=\"evenodd\" fill-opacity=\"1\" /><path clip-path=\"url(#clip460)\" d=\"M160.14 748.557 L176.459 748.557 L176.459 752.492 L154.515 752.492 L154.515 748.557 Q157.177 745.802 161.76 741.173 Q166.366 736.52 167.547 735.177 Q169.792 732.654 170.672 730.918 Q171.575 729.159 171.575 727.469 Q171.575 724.714 169.63 722.978 Q167.709 721.242 164.607 721.242 Q162.408 721.242 159.954 722.006 Q157.524 722.77 154.746 724.321 L154.746 719.599 Q157.57 718.464 160.024 717.886 Q162.477 717.307 164.515 717.307 Q169.885 717.307 173.079 719.992 Q176.274 722.677 176.274 727.168 Q176.274 729.298 175.464 731.219 Q174.677 733.117 172.57 735.71 Q171.991 736.381 168.889 739.599 Q165.788 742.793 160.14 748.557 Z\" fill=\"#000000\" fill-rule=\"evenodd\" fill-opacity=\"1\" /><path clip-path=\"url(#clip460)\" d=\"M166.876 550.014 L155.07 568.463 L166.876 568.463 L166.876 550.014 M165.649 545.94 L171.528 545.94 L171.528 568.463 L176.459 568.463 L176.459 572.352 L171.528 572.352 L171.528 580.5 L166.876 580.5 L166.876 572.352 L151.274 572.352 L151.274 567.838 L165.649 545.94 Z\" fill=\"#000000\" fill-rule=\"evenodd\" fill-opacity=\"1\" /><path clip-path=\"url(#clip460)\" d=\"M164.931 389.365 Q161.783 389.365 159.931 391.517 Q158.103 393.67 158.103 397.42 Q158.103 401.147 159.931 403.323 Q161.783 405.476 164.931 405.476 Q168.079 405.476 169.908 403.323 Q171.76 401.147 171.76 397.42 Q171.76 393.67 169.908 391.517 Q168.079 389.365 164.931 389.365 M174.214 374.712 L174.214 378.971 Q172.454 378.138 170.649 377.698 Q168.866 377.258 167.107 377.258 Q162.477 377.258 160.024 380.383 Q157.593 383.508 157.246 389.828 Q158.612 387.814 160.672 386.749 Q162.732 385.661 165.209 385.661 Q170.417 385.661 173.427 388.832 Q176.459 391.98 176.459 397.42 Q176.459 402.744 173.311 405.962 Q170.163 409.179 164.931 409.179 Q158.936 409.179 155.765 404.596 Q152.593 399.99 152.593 391.263 Q152.593 383.068 156.482 378.207 Q160.371 373.323 166.922 373.323 Q168.681 373.323 170.464 373.67 Q172.269 374.017 174.214 374.712 Z\" fill=\"#000000\" fill-rule=\"evenodd\" fill-opacity=\"1\" /><path clip-path=\"url(#clip460)\" d=\"M164.607 220.104 Q161.274 220.104 159.353 221.887 Q157.454 223.669 157.454 226.794 Q157.454 229.919 159.353 231.701 Q161.274 233.484 164.607 233.484 Q167.94 233.484 169.862 231.701 Q171.783 229.896 171.783 226.794 Q171.783 223.669 169.862 221.887 Q167.964 220.104 164.607 220.104 M159.931 218.113 Q156.922 217.373 155.232 215.312 Q153.566 213.252 153.566 210.289 Q153.566 206.146 156.505 203.738 Q159.468 201.331 164.607 201.331 Q169.769 201.331 172.709 203.738 Q175.649 206.146 175.649 210.289 Q175.649 213.252 173.959 215.312 Q172.292 217.373 169.306 218.113 Q172.686 218.9 174.561 221.192 Q176.459 223.484 176.459 226.794 Q176.459 231.817 173.38 234.502 Q170.325 237.187 164.607 237.187 Q158.89 237.187 155.811 234.502 Q152.755 231.817 152.755 226.794 Q152.755 223.484 154.653 221.192 Q156.552 218.9 159.931 218.113 M158.218 210.729 Q158.218 213.414 159.885 214.919 Q161.575 216.424 164.607 216.424 Q167.616 216.424 169.306 214.919 Q171.019 213.414 171.019 210.729 Q171.019 208.044 169.306 206.539 Q167.616 205.035 164.607 205.035 Q161.575 205.035 159.885 206.539 Q158.218 208.044 158.218 210.729 Z\" fill=\"#000000\" fill-rule=\"evenodd\" fill-opacity=\"1\" /><path clip-path=\"url(#clip460)\" d=\"M125.163 60.5889 L132.802 60.5889 L132.802 34.2233 L124.492 35.89 L124.492 31.6308 L132.755 29.9641 L137.431 29.9641 L137.431 60.5889 L145.07 60.5889 L145.07 64.5241 L125.163 64.5241 L125.163 60.5889 Z\" fill=\"#000000\" fill-rule=\"evenodd\" fill-opacity=\"1\" /><path clip-path=\"url(#clip460)\" d=\"M164.515 33.0428 Q160.903 33.0428 159.075 36.6076 Q157.269 40.1492 157.269 47.2788 Q157.269 54.3853 159.075 57.9501 Q160.903 61.4917 164.515 61.4917 Q168.149 61.4917 169.954 57.9501 Q171.783 54.3853 171.783 47.2788 Q171.783 40.1492 169.954 36.6076 Q168.149 33.0428 164.515 33.0428 M164.515 29.3391 Q170.325 29.3391 173.38 33.9456 Q176.459 38.5289 176.459 47.2788 Q176.459 56.0056 173.38 60.6121 Q170.325 65.1954 164.515 65.1954 Q158.704 65.1954 155.626 60.6121 Q152.57 56.0056 152.57 47.2788 Q152.57 38.5289 155.626 33.9456 Q158.704 29.3391 164.515 29.3391 Z\" fill=\"#000000\" fill-rule=\"evenodd\" fill-opacity=\"1\" /><path clip-path=\"url(#clip460)\" d=\"M14.479 758.654 L19.3487 758.654 L19.3487 764.256 Q19.3487 767.407 20.6219 768.648 Q21.895 769.857 25.2052 769.857 L28.3562 769.857 L28.3562 760.213 L32.9077 760.213 L32.9077 769.857 L64.0042 769.857 L64.0042 775.746 L32.9077 775.746 L32.9077 781.347 L28.3562 781.347 L28.3562 775.746 L25.8736 775.746 Q19.9216 775.746 17.2162 772.977 Q14.479 770.207 14.479 764.192 L14.479 758.654 Z\" fill=\"#000000\" fill-rule=\"evenodd\" fill-opacity=\"1\" /><path clip-path=\"url(#clip460)\" d=\"M14.5426 739.684 Q21.8632 743.949 29.0246 746.018 Q36.186 748.087 43.5384 748.087 Q50.8908 748.087 58.1159 746.018 Q65.3091 743.917 72.5979 739.684 L72.5979 744.776 Q65.1182 749.551 57.8931 751.938 Q50.668 754.293 43.5384 754.293 Q36.4406 754.293 29.2474 751.938 Q22.0542 749.583 14.5426 744.776 L14.5426 739.684 Z\" fill=\"#000000\" fill-rule=\"evenodd\" fill-opacity=\"1\" /><path clip-path=\"url(#clip460)\" d=\"M18.2347 722.528 L28.3562 722.528 L28.3562 710.465 L32.9077 710.465 L32.9077 722.528 L52.2594 722.528 Q56.6199 722.528 57.8613 721.351 Q59.1026 720.141 59.1026 716.481 L59.1026 710.465 L64.0042 710.465 L64.0042 716.481 Q64.0042 723.26 61.4897 725.838 Q58.9434 728.417 52.2594 728.417 L32.9077 728.417 L32.9077 732.713 L28.3562 732.713 L28.3562 728.417 L18.2347 728.417 L18.2347 722.528 Z\" fill=\"#000000\" fill-rule=\"evenodd\" fill-opacity=\"1\" /><path clip-path=\"url(#clip460)\" d=\"M14.5426 703.686 L14.5426 698.593 Q22.0542 693.819 29.2474 691.464 Q36.4406 689.077 43.5384 689.077 Q50.668 689.077 57.8931 691.464 Q65.1182 693.819 72.5979 698.593 L72.5979 703.686 Q65.3091 699.453 58.1159 697.384 Q50.8908 695.283 43.5384 695.283 Q36.186 695.283 29.0246 697.384 Q21.8632 699.453 14.5426 703.686 Z\" fill=\"#000000\" fill-rule=\"evenodd\" fill-opacity=\"1\" /><polyline clip-path=\"url(#clip462)\" style=\"stroke:#009af9; stroke-linecap:butt; stroke-linejoin:round; stroke-width:8; stroke-opacity:1; fill:none\" points=\"\n  273.033,853.058 292.752,848.12 475.079,792.372 584.65,747.14 677.291,699.013 727.608,668.009 777.925,632.868 824.313,596.26 870.701,555.079 920.434,505.306 \n  970.166,449.34 1027.79,376.984 1085.41,298.721 1136.61,229.15 1187.82,168.719 1210.27,148.632 1232.72,134.583 1255.17,128.224 1277.62,131.175 1302.1,146.639 \n  1326.58,176.052 1351.06,219.709 1375.54,276.776 1400.16,345.709 1424.78,423.247 1449.41,505.888 1474.03,590.077 1501.26,681.145 1528.48,766.875 1555.71,845.065 \n  1582.93,914.582 1608.83,972.414 1634.74,1022.41 1660.64,1065.12 1686.54,1101.29 1713.48,1132.78 1740.41,1158.89 1767.35,1180.4 1794.28,1198.03 1839.62,1220.61 \n  1884.97,1236.31 1995.69,1255.98 2099.77,1260.86 2266.52,1256.93 2292.18,1255.71 \n  \"/>\n<circle clip-path=\"url(#clip462)\" cx=\"609.558\" cy=\"735.212\" r=\"14\" fill=\"#e26f46\" fill-rule=\"evenodd\" fill-opacity=\"1\" stroke=\"#000000\" stroke-opacity=\"1\" stroke-width=\"3.2\"/>\n<circle clip-path=\"url(#clip462)\" cx=\"946.083\" cy=\"477.224\" r=\"14\" fill=\"#e26f46\" fill-rule=\"evenodd\" fill-opacity=\"1\" stroke=\"#000000\" stroke-opacity=\"1\" stroke-width=\"3.2\"/>\n<circle clip-path=\"url(#clip462)\" cx=\"1282.61\" cy=\"133.24\" r=\"14\" fill=\"#e26f46\" fill-rule=\"evenodd\" fill-opacity=\"1\" stroke=\"#000000\" stroke-opacity=\"1\" stroke-width=\"3.2\"/>\n<circle clip-path=\"url(#clip462)\" cx=\"1619.13\" cy=\"993.2\" r=\"14\" fill=\"#e26f46\" fill-rule=\"evenodd\" fill-opacity=\"1\" stroke=\"#000000\" stroke-opacity=\"1\" stroke-width=\"3.2\"/>\n<circle clip-path=\"url(#clip462)\" cx=\"1955.66\" cy=\"1251.19\" r=\"14\" fill=\"#e26f46\" fill-rule=\"evenodd\" fill-opacity=\"1\" stroke=\"#000000\" stroke-opacity=\"1\" stroke-width=\"3.2\"/>\n</svg>\n"
     },
     "execution_count": 92,
     "metadata": {},
     "output_type": "execute_result"
    }
   ],
   "source": [
    "using Plots\n",
    "Plots.PyPlotBackend()\n",
    "plot(f, 0, 6, framestyle = :zerolines, xlabel = \"t\", ylabel = \"f(t)\"\n",
    "    , ylims = (-6, 10), yticks = -6:2:10, lw = 2, label = :none)\n",
    "scatter!(f,[1:5], label = :none)"
   ]
  },
  {
   "cell_type": "code",
   "execution_count": 128,
   "metadata": {},
   "outputs": [
    {
     "data": {
      "text/plain": [
       "4-element Vector{Float64}:\n",
       " 0.9166666666666665\n",
       " 0.08333333333333236\n",
       " 0.08333333333333309\n",
       " 0.9166666666666666"
      ]
     },
     "execution_count": 128,
     "metadata": {},
     "output_type": "execute_result"
    }
   ],
   "source": [
    "#\n",
    "A=[1 1 1 1; -0.6 -0.2 0.2 0.6; 0.36 0.04 0.04 0.36; -0.216 -0.008 0.008 0.216]\n",
    "B=zeros(Float64, 4, 4)\n",
    "t = [-0.6;-0.2;0.2;0.6]\n",
    "w = [1.4375; -0.4375; -0.4375; 1.4375]\n",
    "b = [2;0;2/3;0]\n",
    "for j = 1 : 4\n",
    "    B[j,:] = t.^(j - 1)\n",
    "end\n",
    "inv(B)*b"
   ]
  },
  {
   "cell_type": "code",
   "execution_count": 127,
   "metadata": {},
   "outputs": [
    {
     "data": {
      "text/plain": [
       "4×4 Matrix{Int64}:\n",
       "  3  -1  -1  -1\n",
       " -1   2  -1   0\n",
       " -1  -1   3  -1\n",
       " -1   0  -1   2"
      ]
     },
     "execution_count": 127,
     "metadata": {},
     "output_type": "execute_result"
    }
   ],
   "source": [
    "A = [-1 -1 0 1 0; 1 0 -1 0 0; 0 0 1 -1 -1; 0 1 0 0 1]\n",
    "A*A'"
   ]
  }
 ],
 "metadata": {
  "kernelspec": {
   "display_name": "Julia 1.6.2",
   "language": "julia",
   "name": "julia-1.6"
  },
  "language_info": {
   "file_extension": ".jl",
   "mimetype": "application/julia",
   "name": "julia",
   "version": "1.6.2"
  },
  "orig_nbformat": 4
 },
 "nbformat": 4,
 "nbformat_minor": 2
}

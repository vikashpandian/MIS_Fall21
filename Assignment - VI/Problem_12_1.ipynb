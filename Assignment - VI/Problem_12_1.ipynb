{
 "cells": [
  {
   "cell_type": "markdown",
   "metadata": {},
   "source": [
    "# 12_2 a"
   ]
  },
  {
   "cell_type": "markdown",
   "metadata": {},
   "source": [
    "Creating $20 \\times 10$ matrix $A$ and $20-vector\\ b$"
   ]
  },
  {
   "cell_type": "code",
   "execution_count": 1,
   "metadata": {},
   "outputs": [],
   "source": [
    "using LinearAlgebra"
   ]
  },
  {
   "cell_type": "code",
   "execution_count": 2,
   "metadata": {},
   "outputs": [
    {
     "data": {
      "text/plain": [
       "20-element Vector{Float64}:\n",
       " 0.2193376077737481\n",
       " 0.828314922678014\n",
       " 0.9704811257881327\n",
       " 0.7055605363405624\n",
       " 0.6422659841164733\n",
       " 0.454724133046311\n",
       " 0.5060667439016453\n",
       " 0.7028353252352335\n",
       " 0.5814800657829446\n",
       " 0.17338869672303714\n",
       " 0.5598290114342481\n",
       " 0.5935715254953784\n",
       " 0.7569578117533327\n",
       " 0.6088065006769172\n",
       " 0.5796830471346921\n",
       " 0.004903974537650457\n",
       " 0.6051702857417391\n",
       " 0.012758850184721116\n",
       " 0.7066561156609195\n",
       " 0.52639779437309"
      ]
     },
     "execution_count": 2,
     "metadata": {},
     "output_type": "execute_result"
    }
   ],
   "source": [
    "A = rand(20, 10)\n",
    "b = rand(20)"
   ]
  },
  {
   "cell_type": "markdown",
   "metadata": {},
   "source": [
    "## a) Computing $\\hat{x}$ using different methods"
   ]
  },
  {
   "cell_type": "markdown",
   "metadata": {},
   "source": [
    "### Using Backslash operator"
   ]
  },
  {
   "cell_type": "code",
   "execution_count": 3,
   "metadata": {},
   "outputs": [
    {
     "data": {
      "text/plain": [
       "10-element Vector{Float64}:\n",
       " -0.22210324426742428\n",
       "  0.24708705915627935\n",
       " -0.056812938783258035\n",
       "  0.2246334978710109\n",
       " -0.054779798537748774\n",
       "  0.1591558144547268\n",
       "  0.3134779053748392\n",
       "  0.12760724034917437\n",
       " -0.10379999413691628\n",
       "  0.2576878577618959"
      ]
     },
     "execution_count": 3,
     "metadata": {},
     "output_type": "execute_result"
    }
   ],
   "source": [
    "x_hat = A\\b"
   ]
  },
  {
   "cell_type": "markdown",
   "metadata": {},
   "source": [
    "### Using $\\hat{x} = (A^{T}A)^{-1}A^{T}b$"
   ]
  },
  {
   "cell_type": "code",
   "execution_count": 4,
   "metadata": {},
   "outputs": [
    {
     "data": {
      "text/plain": [
       "10-element Vector{Float64}:\n",
       " -0.22210324426742512\n",
       "  0.24708705915627957\n",
       " -0.05681293878325944\n",
       "  0.22463349787101095\n",
       " -0.05477979853774961\n",
       "  0.1591558144547276\n",
       "  0.3134779053748393\n",
       "  0.12760724034917503\n",
       " -0.10379999413691543\n",
       "  0.25768785776189684"
      ]
     },
     "execution_count": 4,
     "metadata": {},
     "output_type": "execute_result"
    }
   ],
   "source": [
    "x_hat = inv(transpose(A)*A) * (transpose(A)*b)"
   ]
  },
  {
   "cell_type": "markdown",
   "metadata": {},
   "source": [
    "### Using $\\hat{x} = A \\dagger b$"
   ]
  },
  {
   "cell_type": "code",
   "execution_count": 5,
   "metadata": {},
   "outputs": [
    {
     "data": {
      "text/plain": [
       "10-element Vector{Float64}:\n",
       " -0.22210324426742487\n",
       "  0.2470870591562793\n",
       " -0.056812938783257216\n",
       "  0.22463349787101106\n",
       " -0.05477979853774945\n",
       "  0.1591558144547265\n",
       "  0.31347790537483966\n",
       "  0.12760724034917473\n",
       " -0.10379999413691525\n",
       "  0.2576878577618955"
      ]
     },
     "execution_count": 5,
     "metadata": {},
     "output_type": "execute_result"
    }
   ],
   "source": [
    "x_hat = pinv(A) * b"
   ]
  },
  {
   "cell_type": "markdown",
   "metadata": {},
   "source": [
    "## b) To show that $|| A(\\hat{x} + \\delta) - b ||^2 > || A\\hat{x} - b ||^2$"
   ]
  },
  {
   "cell_type": "code",
   "execution_count": 6,
   "metadata": {},
   "outputs": [
    {
     "data": {
      "text/plain": [
       "10-element Vector{Float64}:\n",
       " -0.22210324426742428\n",
       "  0.24708705915627935\n",
       " -0.056812938783258035\n",
       "  0.2246334978710109\n",
       " -0.054779798537748774\n",
       "  0.1591558144547268\n",
       "  0.3134779053748392\n",
       "  0.12760724034917437\n",
       " -0.10379999413691628\n",
       "  0.2576878577618959"
      ]
     },
     "execution_count": 6,
     "metadata": {},
     "output_type": "execute_result"
    }
   ],
   "source": [
    "x_hat = A\\b"
   ]
  },
  {
   "cell_type": "markdown",
   "metadata": {},
   "source": [
    "Creating $\\delta$ as del"
   ]
  },
  {
   "cell_type": "code",
   "execution_count": 7,
   "metadata": {},
   "outputs": [
    {
     "data": {
      "text/plain": [
       "10-element Vector{Float64}:\n",
       " 0.07330607570837477\n",
       " 0.41324790815301404\n",
       " 0.3048732597190005\n",
       " 0.4657943479561444\n",
       " 0.3420299758419425\n",
       " 0.9048042129924343\n",
       " 0.018976159790918157\n",
       " 0.49575036974969544\n",
       " 0.8588617836315418\n",
       " 0.8805897813388359"
      ]
     },
     "execution_count": 7,
     "metadata": {},
     "output_type": "execute_result"
    }
   ],
   "source": [
    "del = rand(10)"
   ]
  },
  {
   "cell_type": "markdown",
   "metadata": {},
   "source": [
    "Compute $|| A(\\hat{x} + \\delta) - b ||^2$"
   ]
  },
  {
   "cell_type": "code",
   "execution_count": 8,
   "metadata": {},
   "outputs": [
    {
     "data": {
      "text/plain": [
       "127.19604170629499"
      ]
     },
     "execution_count": 8,
     "metadata": {},
     "output_type": "execute_result"
    }
   ],
   "source": [
    "lhs = norm((A*(x_hat + del)) - b) ^ 2"
   ]
  },
  {
   "cell_type": "markdown",
   "metadata": {},
   "source": [
    "Compute $|| A\\hat{x} - b ||^2$"
   ]
  },
  {
   "cell_type": "code",
   "execution_count": 9,
   "metadata": {},
   "outputs": [
    {
     "data": {
      "text/plain": [
       "0.8629962845611574"
      ]
     },
     "execution_count": 9,
     "metadata": {},
     "output_type": "execute_result"
    }
   ],
   "source": [
    "rhs = norm((A * x_hat) - b)^2"
   ]
  },
  {
   "cell_type": "markdown",
   "metadata": {},
   "source": [
    "Verifying $|| A(\\hat{x} + \\delta) - b ||^2 > || A\\hat{x} - b ||^2$"
   ]
  },
  {
   "cell_type": "code",
   "execution_count": 10,
   "metadata": {},
   "outputs": [
    {
     "name": "stdout",
     "output_type": "stream",
     "text": [
      "Hence the statement is Verified"
     ]
    }
   ],
   "source": [
    "if(lhs > rhs) \n",
    "    print(\"Hence the statement is Verified\")\n",
    "end"
   ]
  },
  {
   "cell_type": "markdown",
   "metadata": {},
   "source": [
    "Computing for lower values of $\\delta$"
   ]
  },
  {
   "cell_type": "code",
   "execution_count": 14,
   "metadata": {},
   "outputs": [
    {
     "name": "stdout",
     "output_type": "stream",
     "text": [
      "The statement is True\n",
      "The statement is True\n",
      "The statement is True\n",
      "The statement is True\n",
      "The statement is True\n",
      "The statement is True\n",
      "The statement is True\n",
      "The statement is True\n",
      "The statement is True\n"
     ]
    }
   ],
   "source": [
    "for i in 1:10\n",
    "    del = del/2\n",
    "    lhs = norm((A*(x_hat + del)) - b) ^ 2\n",
    "    rhs = norm((A * x_hat) - b)^2\n",
    "    if(lhs > rhs) \n",
    "        print(\"The statement is True\\n\")\n",
    "    end\n",
    "end"
   ]
  }
 ],
 "metadata": {
  "kernelspec": {
   "display_name": "Julia 1.6.2",
   "language": "julia",
   "name": "julia-1.6"
  },
  "language_info": {
   "file_extension": ".jl",
   "mimetype": "application/julia",
   "name": "julia",
   "version": "1.6.2"
  },
  "orig_nbformat": 4
 },
 "nbformat": 4,
 "nbformat_minor": 2
}

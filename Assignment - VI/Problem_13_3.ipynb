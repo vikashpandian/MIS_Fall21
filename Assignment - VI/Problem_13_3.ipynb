{
 "cells": [
  {
   "cell_type": "markdown",
   "metadata": {},
   "source": [
    "# 13_3_b"
   ]
  },
  {
   "cell_type": "markdown",
   "metadata": {},
   "source": [
    "Initializing"
   ]
  },
  {
   "cell_type": "code",
   "execution_count": 5,
   "metadata": {},
   "outputs": [
    {
     "name": "stdout",
     "output_type": "stream",
     "text": [
      "function toeplitz(vect,n) ==>\n",
      "\tforms the toeplitz matrix as described in section 7.4 in textbook\n",
      "\tn is the size of the vector to convolve with\n",
      "\tselect the rows you need from this\n",
      "\n",
      "data given is x_train and x_test\n"
     ]
    },
    {
     "data": {
      "text/plain": [
       "100-element Vector{Float64}:\n",
       "  0.140126610206199\n",
       " -0.3266617955319319\n",
       " -0.3190213361122029\n",
       " -0.07285822610013504\n",
       "  0.10625789758760604\n",
       "  0.06124284356474724\n",
       " -0.46306782099841665\n",
       "  0.13028759972404974\n",
       "  0.3285691916684773\n",
       " -0.04611914392286799\n",
       " -0.29126645858125566\n",
       " -0.1336195642051234\n",
       " -0.11155462013022835\n",
       "  ⋮\n",
       "  1.329897476359537\n",
       "  1.5076467764325698\n",
       " -1.2476869129326498\n",
       " -1.4682439883434155\n",
       "  0.9317559762963956\n",
       "  1.5366874780961386\n",
       " -1.1309996959748272\n",
       " -1.588768005489042\n",
       "  0.6139908129155712\n",
       "  1.8193852647716864\n",
       " -0.4834015865194686\n",
       " -1.9298247132201785"
      ]
     },
     "execution_count": 5,
     "metadata": {},
     "output_type": "execute_result"
    }
   ],
   "source": [
    "using LinearAlgebra\n",
    "\n",
    "include(\"time_series_data.jl\")"
   ]
  },
  {
   "cell_type": "markdown",
   "metadata": {},
   "source": [
    "Computing the Mean-Square Error in train and test set"
   ]
  },
  {
   "cell_type": "code",
   "execution_count": 8,
   "metadata": {},
   "outputs": [
    {
     "name": "stdout",
     "output_type": "stream",
     "text": [
      "M = 2\n",
      "Mean Square Error in Train = 7.666758204892745e-32\n",
      "Mean Square Error in Test = 4.7721984610868757e-32\n",
      "M = 3\n",
      "Mean Square Error in Train = 1.1872847966836048e-31\n",
      "Mean Square Error in Test = 8.592529621745319e-32\n",
      "M = 4\n",
      "Mean Square Error in Train = 2.438845462890193e-31\n",
      "Mean Square Error in Test = 1.5241252865756037e-31\n",
      "M = 5\n",
      "Mean Square Error in Train = 2.5849986928314285e-35\n",
      "Mean Square Error in Test = 1.5339335124498666e-35\n",
      "M = 6\n",
      "Mean Square Error in Train = 1.5110970876033992e-32\n",
      "Mean Square Error in Test = 1.0053764082029966e-32\n",
      "M = 7\n",
      "Mean Square Error in Train = 2.0482001445588078e-31\n",
      "Mean Square Error in Test = 1.224340393102175e-31\n",
      "M = 8\n",
      "Mean Square Error in Train = 1.6294656897927318e-31\n",
      "Mean Square Error in Test = 9.665140247376206e-32\n",
      "M = 9\n",
      "Mean Square Error in Train = 2.5455296581503754e-32\n",
      "Mean Square Error in Test = 2.266489517400147e-32\n",
      "M = 10\n",
      "Mean Square Error in Train = 2.5560768353231864e-32\n",
      "Mean Square Error in Test = 2.552515871103095e-32\n",
      "M = 11\n",
      "Mean Square Error in Train = 4.676589895183796e-32\n",
      "Mean Square Error in Test = 3.2993798684610946e-32\n",
      "M = 12\n",
      "Mean Square Error in Train = 1.2150339199852827e-32\n",
      "Mean Square Error in Test = 7.829980694401994e-33\n"
     ]
    }
   ],
   "source": [
    "for M in 2:12\n",
    "    A = toeplitz(x_train,M)[M:length(x_train),:]\n",
    "    A_test = toeplitz(x_test,M)[M:length(x_test),:]\n",
    "    b = x_train[M:length(x_train)]\n",
    "    dagger = A\\b\n",
    "    ms_error_train = (norm(A * (dagger) - b)^2)/(length(x_train)-M)\n",
    "    ms_error_test = (norm(A_test * (dagger) - x_test[M:length(x_test)])^2)/(length(x_test)-M)\n",
    "    println(\"M = \", M)\n",
    "    println(\"Mean Square Error in Train = \", ms_error_train)\n",
    "    println(\"Mean Square Error in Test = \", ms_error_test)\n",
    "end"
   ]
  }
 ],
 "metadata": {
  "kernelspec": {
   "display_name": "Julia 1.6.2",
   "language": "julia",
   "name": "julia-1.6"
  },
  "language_info": {
   "file_extension": ".jl",
   "mimetype": "application/julia",
   "name": "julia",
   "version": "1.6.2"
  },
  "orig_nbformat": 4
 },
 "nbformat": 4,
 "nbformat_minor": 2
}

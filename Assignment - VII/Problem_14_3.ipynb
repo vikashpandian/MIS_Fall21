{
 "cells": [
  {
   "cell_type": "code",
   "execution_count": 1,
   "metadata": {},
   "outputs": [
    {
     "data": {
      "text/plain": [
       "confusion_matrix (generic function with 1 method)"
      ]
     },
     "execution_count": 1,
     "metadata": {},
     "output_type": "execute_result"
    }
   ],
   "source": [
    "using LinearAlgebra\n",
    "\n",
    "include(\"iris_flower_data.jl\")\n",
    "include(\"iris_multiclass_helpers.jl\")"
   ]
  },
  {
   "cell_type": "code",
   "execution_count": 2,
   "metadata": {},
   "outputs": [
    {
     "data": {
      "text/plain": [
       "1×50 adjoint(::Vector{Float64}) with eltype Float64:\n",
       " 2.0  3.0  2.0  2.0  1.0  1.0  3.0  3.0  …  1.0  3.0  1.0  2.0  1.0  2.0  1.0"
      ]
     },
     "execution_count": 2,
     "metadata": {},
     "output_type": "execute_result"
    }
   ],
   "source": [
    "X_train = X[:,1:100]'\n",
    "X_test = X[:,101:150]'\n",
    "y_train = y[1:100]'\n",
    "y_test = y[101:150]'"
   ]
  },
  {
   "cell_type": "code",
   "execution_count": 3,
   "metadata": {},
   "outputs": [],
   "source": [
    "y1_train = 1*(y_train .== 1)'\n",
    "y1_test = 1*(y_test .== 1)'\n",
    "y2_train = 1*(y_train .== 2)'\n",
    "y2_test = 1*(y_test .== 2)'\n",
    "y3_train = 1*(y_train .== 3)'\n",
    "y3_test = 1*(y_test .== 3)';"
   ]
  },
  {
   "cell_type": "code",
   "execution_count": 4,
   "metadata": {},
   "outputs": [],
   "source": [
    "A_train = [ones(100) X_train];"
   ]
  },
  {
   "cell_type": "code",
   "execution_count": 5,
   "metadata": {},
   "outputs": [
    {
     "data": {
      "text/plain": [
       "5×1 Matrix{Float64}:\n",
       " -0.9947466749775586\n",
       "  0.09153586094062746\n",
       "  0.5698447506712916\n",
       " -0.3371231542607084\n",
       " -0.2950531091716144"
      ]
     },
     "execution_count": 5,
     "metadata": {},
     "output_type": "execute_result"
    }
   ],
   "source": [
    "theta1 = A_train \\ (2*y1_train .- 1)"
   ]
  },
  {
   "cell_type": "code",
   "execution_count": 6,
   "metadata": {},
   "outputs": [
    {
     "data": {
      "text/plain": [
       "5×1 Matrix{Float64}:\n",
       "  2.63355046469394\n",
       "  0.08917974435999566\n",
       " -1.1278629884847786\n",
       "  0.1602264688097815\n",
       " -0.5514903082277343"
      ]
     },
     "execution_count": 6,
     "metadata": {},
     "output_type": "execute_result"
    }
   ],
   "source": [
    "theta2 = A_train \\ (2*y2_train .- 1)"
   ]
  },
  {
   "cell_type": "code",
   "execution_count": 7,
   "metadata": {},
   "outputs": [
    {
     "data": {
      "text/plain": [
       "5×1 Matrix{Float64}:\n",
       " -2.638803789716383\n",
       " -0.18071560530062303\n",
       "  0.5580182378134874\n",
       "  0.17689668545092702\n",
       "  0.8465434173993485"
      ]
     },
     "execution_count": 7,
     "metadata": {},
     "output_type": "execute_result"
    }
   ],
   "source": [
    "theta3 = A_train \\ (2*y3_train .- 1)"
   ]
  },
  {
   "cell_type": "code",
   "execution_count": 8,
   "metadata": {},
   "outputs": [],
   "source": [
    "y1_hat_train = A_train*theta1 .> 0\n",
    "y2_hat_train = A_train*theta2 .> 0\n",
    "y3_hat_train = A_train*theta3 .> 0;"
   ]
  },
  {
   "cell_type": "code",
   "execution_count": 9,
   "metadata": {},
   "outputs": [],
   "source": [
    "A_test = [ones(50) X_test]\n",
    "y1_hat_test = A_test*theta1 .> 0\n",
    "y2_hat_test = A_test*theta2 .> 0\n",
    "y3_hat_test = A_test*theta3 .> 0;"
   ]
  },
  {
   "cell_type": "code",
   "execution_count": 10,
   "metadata": {},
   "outputs": [
    {
     "data": {
      "text/plain": [
       "error_rate (generic function with 1 method)"
      ]
     },
     "execution_count": 10,
     "metadata": {},
     "output_type": "execute_result"
    }
   ],
   "source": [
    "using Statistics\n",
    "error_rate(y, yhat) = mean(y .!= yhat)"
   ]
  },
  {
   "cell_type": "code",
   "execution_count": 11,
   "metadata": {},
   "outputs": [
    {
     "name": "stdout",
     "output_type": "stream",
     "text": [
      "error1_train = 0.0\n",
      "error2_train = 0.28\n",
      "error3_train = 0.1\n"
     ]
    },
    {
     "data": {
      "text/plain": [
       "0.1"
      ]
     },
     "execution_count": 11,
     "metadata": {},
     "output_type": "execute_result"
    }
   ],
   "source": [
    "error1_train = error_rate(y1_train, y1_hat_train)\n",
    "error2_train = error_rate(y2_train, y2_hat_train)\n",
    "error3_train = error_rate(y3_train, y3_hat_train)\n",
    "@show error1_train\n",
    "@show error2_train\n",
    "@show error3_train"
   ]
  },
  {
   "cell_type": "code",
   "execution_count": 12,
   "metadata": {},
   "outputs": [
    {
     "name": "stdout",
     "output_type": "stream",
     "text": [
      "error1_test = 0.0\n",
      "error2_test = 0.24\n",
      "error3_test = 0.02\n"
     ]
    },
    {
     "data": {
      "text/plain": [
       "0.02"
      ]
     },
     "execution_count": 12,
     "metadata": {},
     "output_type": "execute_result"
    }
   ],
   "source": [
    "error1_test = error_rate(y1_test, y1_hat_test)\n",
    "error2_test = error_rate(y2_test, y2_hat_test)\n",
    "error3_test = error_rate(y3_test, y3_hat_test)\n",
    "@show error1_test\n",
    "@show error2_test\n",
    "@show error3_test"
   ]
  }
 ],
 "metadata": {
  "kernelspec": {
   "display_name": "Julia 1.6.2",
   "language": "julia",
   "name": "julia-1.6"
  },
  "language_info": {
   "file_extension": ".jl",
   "mimetype": "application/julia",
   "name": "julia",
   "version": "1.6.2"
  },
  "orig_nbformat": 4
 },
 "nbformat": 4,
 "nbformat_minor": 2
}

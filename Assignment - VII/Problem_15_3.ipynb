{
 "cells": [
  {
   "cell_type": "code",
   "execution_count": 5,
   "metadata": {},
   "outputs": [],
   "source": [
    "using LinearAlgebra\n",
    "using MLJ\n",
    "\n",
    "include(\"price_elasticity.jl\")"
   ]
  },
  {
   "cell_type": "code",
   "execution_count": 6,
   "metadata": {},
   "outputs": [
    {
     "data": {
      "text/plain": [
       "5×75 Matrix{Float64}:\n",
       " -0.051424    -0.0149436   0.0775703  …  0.0600145   0.0563037    0.0215862\n",
       " -0.0302302    0.0561652  -0.0433173     0.0374761   0.101276     0.0625757\n",
       " -0.0367657   -0.0428182   0.0515471     0.0523813   0.0664217   -0.0339845\n",
       " -0.0937301   -0.0564496   0.0294006     0.0243497  -0.0180422    0.0195462\n",
       " -0.00227484  -0.0485082  -0.0809683     0.0638806  -0.00242106  -0.051104"
      ]
     },
     "execution_count": 6,
     "metadata": {},
     "output_type": "execute_result"
    }
   ],
   "source": [
    "(m1, n1) = size(Prices)\n",
    "price_delta = zeros(m1, n1)\n",
    "for i in 1:m1\n",
    "    for j in 1:n1\n",
    "        price_delta[i, j] = (Prices[i, j] - p_nom[i])/ p_nom[i]\n",
    "    end\n",
    "end\n",
    "price_delta"
   ]
  },
  {
   "cell_type": "code",
   "execution_count": 7,
   "metadata": {},
   "outputs": [
    {
     "data": {
      "text/plain": [
       "5×75 Matrix{Float64}:\n",
       "  0.160915   0.041291    0.153608   …   0.00740388  -0.22383     0.322254\n",
       "  0.655052  -0.145873    0.0712007      0.130662     0.0647327   0.0368358\n",
       " -0.322118  -0.248818   -0.180494      -0.11351     -0.144461   -0.162057\n",
       "  0.260561   0.0780381  -0.250927      -0.170021     0.0930676   0.438625\n",
       "  0.108005  -0.0951855   0.117042      -0.14356     -0.16178     0.159025"
      ]
     },
     "execution_count": 7,
     "metadata": {},
     "output_type": "execute_result"
    }
   ],
   "source": [
    "(m2, n2) = size(Demands)\n",
    "demand_delta = zeros(m2, n2)\n",
    "for i in 1:m2\n",
    "    for j in 1:n2\n",
    "        demand_delta[i, j] = (Demands[i, j] - d_nom[i])/ d_nom[i]\n",
    "    end\n",
    "end\n",
    "demand_delta"
   ]
  },
  {
   "cell_type": "code",
   "execution_count": 8,
   "metadata": {},
   "outputs": [
    {
     "data": {
      "text/plain": [
       "5×5 Matrix{Float64}:\n",
       " -0.0804511    0.0103458   -0.0839659   -0.0261969  -0.0148971\n",
       "  0.00838631  -0.0347895   -0.00642602  -0.0475389  -0.0474\n",
       " -0.0458354    0.0148483   -0.0303634   -0.0174009  -0.0422333\n",
       " -0.0058114    0.00113364  -0.00169382  -0.0734906   0.036418\n",
       "  0.0284484   -0.0687943   -0.0731857    0.0254066  -0.076902"
      ]
     },
     "execution_count": 8,
     "metadata": {},
     "output_type": "execute_result"
    }
   ],
   "source": [
    "E = zeros(m1,m2);\n",
    "for i in 1:m1\n",
    "    E[i,:] = demand_delta[i,:] \\ price_delta'\n",
    "end\n",
    "E"
   ]
  },
  {
   "cell_type": "code",
   "execution_count": 9,
   "metadata": {},
   "outputs": [
    {
     "data": {
      "text/plain": [
       "5×75 Matrix{Float64}:\n",
       " -0.051424    -0.0149436   0.0775703  …  0.0600145   0.0563037    0.0215862\n",
       " -0.0302302    0.0561652  -0.0433173     0.0374761   0.101276     0.0625757\n",
       " -0.0367657   -0.0428182   0.0515471     0.0523813   0.0664217   -0.0339845\n",
       " -0.0937301   -0.0564496   0.0294006     0.0243497  -0.0180422    0.0195462\n",
       " -0.00227484  -0.0485082  -0.0809683     0.0638806  -0.00242106  -0.051104"
      ]
     },
     "execution_count": 9,
     "metadata": {},
     "output_type": "execute_result"
    }
   ],
   "source": [
    "delta_phat = E*(E\\price_delta)"
   ]
  },
  {
   "cell_type": "code",
   "execution_count": 10,
   "metadata": {},
   "outputs": [
    {
     "data": {
      "text/plain": [
       "3.4828535264082376e-17"
      ]
     },
     "execution_count": 10,
     "metadata": {},
     "output_type": "execute_result"
    }
   ],
   "source": [
    "rms(delta_phat,price_delta)"
   ]
  }
 ],
 "metadata": {
  "kernelspec": {
   "display_name": "Julia 1.6.2",
   "language": "julia",
   "name": "julia-1.6"
  },
  "language_info": {
   "file_extension": ".jl",
   "mimetype": "application/julia",
   "name": "julia",
   "version": "1.6.2"
  },
  "orig_nbformat": 4
 },
 "nbformat": 4,
 "nbformat_minor": 2
}

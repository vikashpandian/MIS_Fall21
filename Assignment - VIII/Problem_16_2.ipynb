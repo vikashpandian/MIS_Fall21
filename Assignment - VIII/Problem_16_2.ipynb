{
 "cells": [
  {
   "cell_type": "code",
   "execution_count": 1,
   "metadata": {},
   "outputs": [],
   "source": [
    "using GFlops\n",
    "\n",
    "C = rand(600, 4000)\n",
    "d = rand(600);"
   ]
  },
  {
   "cell_type": "code",
   "execution_count": 2,
   "metadata": {},
   "outputs": [
    {
     "data": {
      "text/plain": [
       "Flop Counter:\n",
       " fma32: 0\n",
       " fma64: 0\n",
       " add32: 0\n",
       " sub32: 0\n",
       " mul32: 0\n",
       " div32: 0\n",
       " add64: 0\n",
       " sub64: 1\n",
       " mul64: 360001\n",
       " div64: 1\n",
       " sqrt32: 0\n",
       " sqrt64: 1\n"
      ]
     },
     "execution_count": 2,
     "metadata": {},
     "output_type": "execute_result"
    }
   ],
   "source": [
    "@count_ops C\\d"
   ]
  },
  {
   "cell_type": "code",
   "execution_count": 3,
   "metadata": {},
   "outputs": [],
   "source": [
    "total_time = 0\n",
    "for i in 1:20\n",
    "    total_time = total_time + @elapsed C\\d\n",
    "end"
   ]
  },
  {
   "cell_type": "code",
   "execution_count": 4,
   "metadata": {},
   "outputs": [
    {
     "name": "stdout",
     "output_type": "stream",
     "text": [
      "total_time = 16.7897672\n",
      "average_time = total_time / 20 = 0.83948836\n"
     ]
    },
    {
     "data": {
      "text/plain": [
       "0.83948836"
      ]
     },
     "execution_count": 4,
     "metadata": {},
     "output_type": "execute_result"
    }
   ],
   "source": [
    "@show total_time\n",
    "@show average_time = total_time / 20"
   ]
  }
 ],
 "metadata": {
  "interpreter": {
   "hash": "e9c189f36d071e3feafbc6368006929b68f4473eb9fd5ff54f27c34373629430"
  },
  "kernelspec": {
   "display_name": "Julia 1.6.2",
   "language": "julia",
   "name": "julia-1.6"
  },
  "language_info": {
   "file_extension": ".jl",
   "mimetype": "application/julia",
   "name": "julia",
   "version": "1.6.2"
  },
  "orig_nbformat": 4
 },
 "nbformat": 4,
 "nbformat_minor": 2
}

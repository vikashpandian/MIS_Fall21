{
 "cells": [
  {
   "cell_type": "markdown",
   "metadata": {},
   "source": [
    "# Problem 16.3"
   ]
  },
  {
   "cell_type": "markdown",
   "metadata": {},
   "source": [
    "## Initializing inputs A,C,b,d"
   ]
  },
  {
   "cell_type": "code",
   "execution_count": 1,
   "metadata": {},
   "outputs": [
    {
     "name": "stdout",
     "output_type": "stream",
     "text": [
      "A = [0.2027 0.2721 0.7467 0.4659; 0.1987 0.1988 0.445 0.4186; 0.6037 0.0152 0.9318 0.8462]\n",
      "C = [0.9501 0.762 0.6153 0.4057; 0.2311 0.4564 0.7919 0.9354; 0.6068 0.0185 0.9218 0.9169; 0.4859 0.8214 0.7382 0.4102; 0.8912 0.4447 0.1762 0.8936]\n",
      "b = [0.5251, 0.2026, 0.6721]\n",
      "d = [0.0578, 0.3528, 0.8131, 0.0098, 0.1388]\n"
     ]
    }
   ],
   "source": [
    "A =[0.2027    0.2721    0.7467    0.4659;\n",
    "    0.1987    0.1988    0.4450    0.4186;\n",
    "    0.6037    0.0152    0.9318    0.8462]\n",
    "@show A\n",
    "\n",
    "C = [0.9501    0.7620    0.6153    0.4057;\n",
    "    0.2311    0.4564    0.7919    0.9354;\n",
    "    0.6068    0.0185    0.9218    0.9169;\n",
    "    0.4859    0.8214    0.7382    0.4102;\n",
    "    0.8912    0.4447    0.1762    0.8936]\n",
    "@show C\n",
    "\n",
    "b =[0.5251;\n",
    "    0.2026;\n",
    "    0.6721]\n",
    "@show b\n",
    "    \n",
    "d = [0.0578;\n",
    "    0.3528;\n",
    "    0.8131;\n",
    "    0.0098;\n",
    "    0.1388]\n",
    "@show d;"
   ]
  },
  {
   "cell_type": "markdown",
   "metadata": {},
   "source": [
    "## Computing solution matrix from KKT matrix"
   ]
  },
  {
   "cell_type": "code",
   "execution_count": 2,
   "metadata": {},
   "outputs": [
    {
     "data": {
      "text/plain": [
       "9-element Vector{Float64}:\n",
       "  0.18574301885144248\n",
       " -0.7094342105142095\n",
       "  0.5761617277531332\n",
       "  0.18274559658270667\n",
       "  1.9542855919677606e14\n",
       "  1.5839290288070738e14\n",
       " -7.107563727264603e13\n",
       " -2.2540618947864444e14\n",
       " -7.812804060129442e13"
      ]
     },
     "execution_count": 2,
     "metadata": {},
     "output_type": "execute_result"
    }
   ],
   "source": [
    "p,n = size(C)\n",
    "solution_of_KKT = [2A'A C'; C zeros(p,p)] \\\n",
    "                  [2A'b; d]"
   ]
  },
  {
   "cell_type": "markdown",
   "metadata": {},
   "source": [
    "## Finding $\\hat{x}$ from solution of KKT matrix"
   ]
  },
  {
   "cell_type": "code",
   "execution_count": 3,
   "metadata": {},
   "outputs": [
    {
     "data": {
      "text/plain": [
       "4-element Vector{Float64}:\n",
       "  0.18574301885144248\n",
       " -0.7094342105142095\n",
       "  0.5761617277531332\n",
       "  0.18274559658270667"
      ]
     },
     "execution_count": 3,
     "metadata": {},
     "output_type": "execute_result"
    }
   ],
   "source": [
    "xhat = solution_of_KKT[1:n]"
   ]
  }
 ],
 "metadata": {
  "kernelspec": {
   "display_name": "Julia 1.6.2",
   "language": "julia",
   "name": "julia-1.6"
  },
  "language_info": {
   "file_extension": ".jl",
   "mimetype": "application/julia",
   "name": "julia",
   "version": "1.6.2"
  },
  "orig_nbformat": 4
 },
 "nbformat": 4,
 "nbformat_minor": 2
}
